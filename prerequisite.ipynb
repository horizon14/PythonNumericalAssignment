{
 "cells": [
  {
   "cell_type": "markdown",
   "metadata": {},
   "source": [
    "### Using a for-loop, evaluate the $ \\sum_{k=1}^{10} k^4$"
   ]
  },
  {
   "cell_type": "code",
   "execution_count": 13,
   "metadata": {},
   "outputs": [
    {
     "name": "stdout",
     "output_type": "stream",
     "text": [
      "25333\n"
     ]
    }
   ],
   "source": [
    "sum_k4=0\n",
    "\n",
    "for k in range(1,11):\n",
    "    sum_k4+=k**4\n",
    "    \n",
    "print(sum_k4)"
   ]
  },
  {
   "cell_type": "markdown",
   "metadata": {},
   "source": [
    "### Define a python function compute_sum that takes in an argument n and returns $\\sum_{k=1}^n k^4$ . Evaluate this function for the following values of n: 2, 3, 5, 10."
   ]
  },
  {
   "cell_type": "code",
   "execution_count": 14,
   "metadata": {},
   "outputs": [
    {
     "name": "stdout",
     "output_type": "stream",
     "text": [
      "17\n",
      "98\n",
      "979\n",
      "25333\n"
     ]
    }
   ],
   "source": [
    "def compute_sum(n):\n",
    "    sum_k4=0\n",
    "    for k in range(1,n+1):\n",
    "        sum_k4+=k**4\n",
    "    return sum_k4\n",
    "\n",
    "print(compute_sum(2))\n",
    "print(compute_sum(3))\n",
    "print(compute_sum(5))\n",
    "print(compute_sum(10))"
   ]
  },
  {
   "cell_type": "markdown",
   "metadata": {},
   "source": [
    " ### Write a python function divisible_by_27 that takes in an argument n and returns the boolean True if n is divisible by 27, and the boolean False if it is not divisible by 27."
   ]
  },
  {
   "cell_type": "code",
   "execution_count": 15,
   "metadata": {},
   "outputs": [
    {
     "name": "stdout",
     "output_type": "stream",
     "text": [
      "True\n",
      "False\n"
     ]
    }
   ],
   "source": [
    "def divisible_by_27(n):\n",
    "     if n%27==0:\n",
    "        return True\n",
    "     else:\n",
    "        return False\n",
    "    \n",
    "print(divisible_by_27(27))\n",
    "print(divisible_by_27(26))\n",
    "\n"
   ]
  },
  {
   "cell_type": "markdown",
   "metadata": {},
   "source": [
    "### Using the results from questions 2 and 3, find the smallest value of n such that $\\sum_{k=1}^{n} k^4 $ is divisible by 27."
   ]
  },
  {
   "cell_type": "code",
   "execution_count": 17,
   "metadata": {},
   "outputs": [
    {
     "name": "stdout",
     "output_type": "stream",
     "text": [
      "40\n"
     ]
    }
   ],
   "source": [
    "for i in range(1,1000):\n",
    "    if divisible_by_27(compute_sum(i)):\n",
    "        print(i)\n",
    "        break\n",
    "        "
   ]
  },
  {
   "cell_type": "markdown",
   "metadata": {},
   "source": [
    "### Write a python function sum_divisible_by_m that takes in an argument m, and returns the smallest value of n such that $\\sum_{k=1}^{n} k^4 $ is divisible by"
   ]
  },
  {
   "cell_type": "markdown",
   "metadata": {},
   "source": []
  },
  {
   "cell_type": "code",
   "execution_count": 60,
   "metadata": {},
   "outputs": [
    {
     "name": "stdout",
     "output_type": "stream",
     "text": [
      "1 1\n"
     ]
    }
   ],
   "source": [
    "def sum_divisible_by_m(n,m):\n",
    "    if n%m==0:\n",
    "        return True\n",
    "    else:\n",
    "        return False\n",
    "\n",
    "# found = False\n",
    "# for i in range(1,1000):\n",
    "#     if found:\n",
    "#         break\n",
    "#     for j in range(1,1000):\n",
    "#         if sum_divisible_by_m(compute_sum(i),j):\n",
    "#             print(i,j)\n",
    "#             found=True\n",
    "#             break      \n",
    "\n",
    "class BreakIt(Exception):\n",
    "    pass\n",
    "\n",
    "try:\n",
    "    for i in range(1,1000):\n",
    "        for j in range(1,1000):\n",
    "            if sum_divisible_by_m(compute_sum(i),j):\n",
    "                print(i,j)\n",
    "                raise BreakIt\n",
    "except BreakIt:\n",
    "    pass"
   ]
  }
 ],
 "metadata": {
  "kernelspec": {
   "display_name": "Python 3",
   "language": "python",
   "name": "python3"
  },
  "language_info": {
   "codemirror_mode": {
    "name": "ipython",
    "version": 3
   },
   "file_extension": ".py",
   "mimetype": "text/x-python",
   "name": "python",
   "nbconvert_exporter": "python",
   "pygments_lexer": "ipython3",
   "version": "3.12.2"
  }
 },
 "nbformat": 4,
 "nbformat_minor": 2
}
